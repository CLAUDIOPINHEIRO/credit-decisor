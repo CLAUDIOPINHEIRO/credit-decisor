{
 "cells": [
  {
   "cell_type": "markdown",
   "metadata": {},
   "source": [
    "# Credit Decisor"
   ]
  },
  {
   "cell_type": "markdown",
   "metadata": {},
   "source": [
    "## Setup"
   ]
  },
  {
   "cell_type": "code",
   "execution_count": 1,
   "metadata": {},
   "outputs": [],
   "source": [
    "%run helper.py"
   ]
  },
  {
   "cell_type": "markdown",
   "metadata": {},
   "source": [
    "## Informações do Cliente"
   ]
  },
  {
   "cell_type": "code",
   "execution_count": 2,
   "metadata": {},
   "outputs": [],
   "source": [
    "nome = \"Lennon Alves Dias\" #@param {type:\"string\"}\n",
    "renda = 1000.00 #@param {type:\"number\"}\n",
    "idade = 25 #@param {type:\"slider\", min:18, max:100, step:1}\n",
    "etnia = 0  #@param {type:\"number\"}\n",
    "genero = 0 #@param {type:\"number\"}\n",
    "casa_propria = 1 #@param {type:\"number\"}\n",
    "outras_rendas = 0 #@param {type:\"number\"}\n",
    "estado_civil = 1 #@param {type:\"number\"}\n",
    "escolaridade = 2 #@param {type:\"number\"}"
   ]
  },
  {
   "cell_type": "code",
   "execution_count": 3,
   "metadata": {},
   "outputs": [],
   "source": [
    "person_client = {\n",
    "  'nome': {'1': nome},\n",
    "  'renda': {'1': renda},\n",
    "  'idade': {'1': idade},\n",
    "  'etnia': {'1': etnia},\n",
    "  'sexo': {'1': genero},\n",
    "  'casapropria': {'1': casa_propria},\n",
    "  'outrasrendas': {'1': outras_rendas},\n",
    "  'estadocivil': {'1': estado_civil},\n",
    "  'escolaridade': {'1': escolaridade}\n",
    "}"
   ]
  },
  {
   "cell_type": "code",
   "execution_count": null,
   "metadata": {},
   "outputs": [],
   "source": [
    "# take_photo()"
   ]
  },
  {
   "cell_type": "markdown",
   "metadata": {},
   "source": [
    "## Análise de Crédito"
   ]
  },
  {
   "cell_type": "code",
   "execution_count": 4,
   "metadata": {},
   "outputs": [],
   "source": [
    "import json\n",
    "import requests"
   ]
  },
  {
   "cell_type": "code",
   "execution_count": 5,
   "metadata": {},
   "outputs": [],
   "source": [
    "from ibm_watson import VisualRecognitionV3\n",
    "from ibm_cloud_sdk_core.authenticators import IAMAuthenticator"
   ]
  },
  {
   "cell_type": "code",
   "execution_count": 6,
   "metadata": {},
   "outputs": [],
   "source": [
    "authenticator = IAMAuthenticator(IBM_WATSON_API_KEY)\n",
    "visual_recognition = VisualRecognitionV3(version=\"2020-04-29\", authenticator=authenticator)\n",
    "visual_recognition.set_service_url(IBM_WATSON_URL)"
   ]
  },
  {
   "cell_type": "code",
   "execution_count": 7,
   "metadata": {},
   "outputs": [],
   "source": [
    "from azure.cognitiveservices.vision.face import FaceClient\n",
    "from msrest.authentication import CognitiveServicesCredentials"
   ]
  },
  {
   "cell_type": "code",
   "execution_count": 8,
   "metadata": {},
   "outputs": [],
   "source": [
    "face_client = FaceClient(AZURE_URL, CognitiveServicesCredentials(AZURE_API_KEY))"
   ]
  },
  {
   "cell_type": "code",
   "execution_count": 9,
   "metadata": {},
   "outputs": [],
   "source": [
    "def validate_person(image):\n",
    "  general_data = visual_recognition.classify(images_file=image, threshold=0.6, classifier_ids='default').get_result()\n",
    "  general_classes = general_data['images'][0]['classifiers'][0]['classes']\n",
    "  is_person = any(x['class'] == \"person\" for x in general_classes)\n",
    "  return True if is_person else False"
   ]
  },
  {
   "cell_type": "code",
   "execution_count": 10,
   "metadata": {},
   "outputs": [],
   "source": [
    "def validate_explicit(image):\n",
    "  explicit_data = visual_recognition.classify(images_file=image, threshold=0.75, classifier_ids='explicit').get_result()\n",
    "  explicit_classes = explicit_data['images'][0]['classifiers'][0]['classes']\n",
    "  is_explicit = any(x['class'] == \"explicit\" for x in explicit_classes)\n",
    "  return True if is_explicit else False"
   ]
  },
  {
   "cell_type": "code",
   "execution_count": 19,
   "metadata": {},
   "outputs": [],
   "source": [
    "PREDICT_URL = 'https://creditdecisor.lennon.cloud'\n",
    "PREDICT_HEADERS = {'Content-Type': 'application/json'}"
   ]
  },
  {
   "cell_type": "code",
   "execution_count": 47,
   "metadata": {},
   "outputs": [],
   "source": [
    "def predict_model(num, client):\n",
    "    response = requests.request(\"POST\", f'{PREDICT_URL}/modelo{num}', headers=PREDICT_HEADERS, json=client, verify=False)\n",
    "    print(response.json().prediction)"
   ]
  },
  {
   "cell_type": "code",
   "execution_count": 46,
   "metadata": {},
   "outputs": [
    {
     "output_type": "stream",
     "name": "stdout",
     "text": "Expecting property name enclosed in double quotes: line 1 column 2 (char 1)\n"
    }
   ],
   "source": [
    "try:\n",
    "#   with open(filename, 'r+b') as image:\n",
    "#     print(validate_person(image))\n",
    "#   with open(filename, 'r+b') as image:\n",
    "#     print(validate_explicit(image))\n",
    "#   with open(filename, 'r+b') as image:\n",
    "#     print(facial_recognition(face_client, image))\n",
    "  print(predict_model(\"01\", person_client))\n",
    "except Exception as err:\n",
    "  print(str(err))"
   ]
  },
  {
   "cell_type": "code",
   "execution_count": null,
   "metadata": {},
   "outputs": [],
   "source": []
  }
 ],
 "metadata": {
  "language_info": {
   "codemirror_mode": {
    "name": "ipython",
    "version": 3
   },
   "file_extension": ".py",
   "mimetype": "text/x-python",
   "name": "python",
   "nbconvert_exporter": "python",
   "pygments_lexer": "ipython3",
   "version": "3.6.7-final"
  },
  "orig_nbformat": 2,
  "kernelspec": {
   "name": "python36764bitenvvenv3533718c62c14590b76370b26b0e5f98",
   "display_name": "Python 3.6.7 64-bit ('env': venv)"
  }
 },
 "nbformat": 4,
 "nbformat_minor": 2
}